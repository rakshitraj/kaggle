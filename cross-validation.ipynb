{
 "cells": [
  {
   "cell_type": "markdown",
   "metadata": {},
   "source": [
    "# Cross-validation\n",
    "\n",
    "To get multiple measures of model quality by running the modelling process on different subsets of data. The complete set of data is divided into subsets called folds. some of these subsets(folds) are used as training data and the remaining folds are used as holdout for model validation.\n",
    "\n",
    "Coss-validation gives a more accurate measure of model quality. Use cases include\n",
    "- **small datasets**, where we can afford the additional computational burden due to cross-validation\n",
    "- **larger datasets**, where a single validation isn't sufficient"
   ]
  },
  {
   "cell_type": "code",
   "execution_count": 1,
   "metadata": {},
   "outputs": [],
   "source": [
    "# CROSS-VALIDATION on Melbourne Housing Dataset\n",
    "\n",
    "import pandas as pd\n",
    "data = pd.read_csv('~/kaggle/input/melbourne-housing-snapshot/melb_data.csv')"
   ]
  },
  {
   "cell_type": "code",
   "execution_count": 5,
   "metadata": {},
   "outputs": [
    {
     "data": {
      "text/html": [
       "<div>\n",
       "<style scoped>\n",
       "    .dataframe tbody tr th:only-of-type {\n",
       "        vertical-align: middle;\n",
       "    }\n",
       "\n",
       "    .dataframe tbody tr th {\n",
       "        vertical-align: top;\n",
       "    }\n",
       "\n",
       "    .dataframe thead th {\n",
       "        text-align: right;\n",
       "    }\n",
       "</style>\n",
       "<table border=\"1\" class=\"dataframe\">\n",
       "  <thead>\n",
       "    <tr style=\"text-align: right;\">\n",
       "      <th></th>\n",
       "      <th>Rooms</th>\n",
       "      <th>Price</th>\n",
       "      <th>Distance</th>\n",
       "      <th>Postcode</th>\n",
       "      <th>Bedroom2</th>\n",
       "      <th>Bathroom</th>\n",
       "      <th>Car</th>\n",
       "      <th>Landsize</th>\n",
       "      <th>BuildingArea</th>\n",
       "      <th>YearBuilt</th>\n",
       "      <th>Lattitude</th>\n",
       "      <th>Longtitude</th>\n",
       "      <th>Propertycount</th>\n",
       "    </tr>\n",
       "  </thead>\n",
       "  <tbody>\n",
       "    <tr>\n",
       "      <td>count</td>\n",
       "      <td>13580</td>\n",
       "      <td>13580</td>\n",
       "      <td>13580</td>\n",
       "      <td>13580</td>\n",
       "      <td>13580</td>\n",
       "      <td>13580</td>\n",
       "      <td>13518</td>\n",
       "      <td>13580</td>\n",
       "      <td>7130</td>\n",
       "      <td>8205</td>\n",
       "      <td>13580</td>\n",
       "      <td>13580</td>\n",
       "      <td>13580</td>\n",
       "    </tr>\n",
       "    <tr>\n",
       "      <td>mean</td>\n",
       "      <td>2</td>\n",
       "      <td>1075684</td>\n",
       "      <td>10</td>\n",
       "      <td>3105</td>\n",
       "      <td>2</td>\n",
       "      <td>1</td>\n",
       "      <td>1</td>\n",
       "      <td>558</td>\n",
       "      <td>151</td>\n",
       "      <td>1964</td>\n",
       "      <td>-37</td>\n",
       "      <td>144</td>\n",
       "      <td>7454</td>\n",
       "    </tr>\n",
       "    <tr>\n",
       "      <td>std</td>\n",
       "      <td>0</td>\n",
       "      <td>639310</td>\n",
       "      <td>5</td>\n",
       "      <td>90</td>\n",
       "      <td>0</td>\n",
       "      <td>0</td>\n",
       "      <td>0</td>\n",
       "      <td>3990</td>\n",
       "      <td>541</td>\n",
       "      <td>37</td>\n",
       "      <td>0</td>\n",
       "      <td>0</td>\n",
       "      <td>4378</td>\n",
       "    </tr>\n",
       "    <tr>\n",
       "      <td>min</td>\n",
       "      <td>1</td>\n",
       "      <td>85000</td>\n",
       "      <td>0</td>\n",
       "      <td>3000</td>\n",
       "      <td>0</td>\n",
       "      <td>0</td>\n",
       "      <td>0</td>\n",
       "      <td>0</td>\n",
       "      <td>0</td>\n",
       "      <td>1196</td>\n",
       "      <td>-38</td>\n",
       "      <td>144</td>\n",
       "      <td>249</td>\n",
       "    </tr>\n",
       "    <tr>\n",
       "      <td>25%</td>\n",
       "      <td>2</td>\n",
       "      <td>650000</td>\n",
       "      <td>6</td>\n",
       "      <td>3044</td>\n",
       "      <td>2</td>\n",
       "      <td>1</td>\n",
       "      <td>1</td>\n",
       "      <td>177</td>\n",
       "      <td>93</td>\n",
       "      <td>1940</td>\n",
       "      <td>-37</td>\n",
       "      <td>144</td>\n",
       "      <td>4380</td>\n",
       "    </tr>\n",
       "    <tr>\n",
       "      <td>50%</td>\n",
       "      <td>3</td>\n",
       "      <td>903000</td>\n",
       "      <td>9</td>\n",
       "      <td>3084</td>\n",
       "      <td>3</td>\n",
       "      <td>1</td>\n",
       "      <td>2</td>\n",
       "      <td>440</td>\n",
       "      <td>126</td>\n",
       "      <td>1970</td>\n",
       "      <td>-37</td>\n",
       "      <td>145</td>\n",
       "      <td>6555</td>\n",
       "    </tr>\n",
       "    <tr>\n",
       "      <td>75%</td>\n",
       "      <td>3</td>\n",
       "      <td>1330000</td>\n",
       "      <td>13</td>\n",
       "      <td>3148</td>\n",
       "      <td>3</td>\n",
       "      <td>2</td>\n",
       "      <td>2</td>\n",
       "      <td>651</td>\n",
       "      <td>174</td>\n",
       "      <td>1999</td>\n",
       "      <td>-37</td>\n",
       "      <td>145</td>\n",
       "      <td>10331</td>\n",
       "    </tr>\n",
       "    <tr>\n",
       "      <td>max</td>\n",
       "      <td>10</td>\n",
       "      <td>9000000</td>\n",
       "      <td>48</td>\n",
       "      <td>3977</td>\n",
       "      <td>20</td>\n",
       "      <td>8</td>\n",
       "      <td>10</td>\n",
       "      <td>433014</td>\n",
       "      <td>44515</td>\n",
       "      <td>2018</td>\n",
       "      <td>-37</td>\n",
       "      <td>145</td>\n",
       "      <td>21650</td>\n",
       "    </tr>\n",
       "  </tbody>\n",
       "</table>\n",
       "</div>"
      ],
      "text/plain": [
       "       Rooms    Price  Distance  Postcode  Bedroom2  Bathroom    Car  \\\n",
       "count  13580    13580     13580     13580     13580     13580  13518   \n",
       "mean       2  1075684        10      3105         2         1      1   \n",
       "std        0   639310         5        90         0         0      0   \n",
       "min        1    85000         0      3000         0         0      0   \n",
       "25%        2   650000         6      3044         2         1      1   \n",
       "50%        3   903000         9      3084         3         1      2   \n",
       "75%        3  1330000        13      3148         3         2      2   \n",
       "max       10  9000000        48      3977        20         8     10   \n",
       "\n",
       "       Landsize  BuildingArea  YearBuilt  Lattitude  Longtitude  Propertycount  \n",
       "count     13580          7130       8205      13580       13580          13580  \n",
       "mean        558           151       1964        -37         144           7454  \n",
       "std        3990           541         37          0           0           4378  \n",
       "min           0             0       1196        -38         144            249  \n",
       "25%         177            93       1940        -37         144           4380  \n",
       "50%         440           126       1970        -37         145           6555  \n",
       "75%         651           174       1999        -37         145          10331  \n",
       "max      433014         44515       2018        -37         145          21650  "
      ]
     },
     "execution_count": 5,
     "metadata": {},
     "output_type": "execute_result"
    }
   ],
   "source": [
    "data.describe().astype('int64')"
   ]
  },
  {
   "cell_type": "code",
   "execution_count": 7,
   "metadata": {},
   "outputs": [],
   "source": [
    "# Select predictors\n",
    "cols_to_use = ['Rooms', 'Distance', 'Landsize', 'BuildingArea', 'YearBuilt']\n",
    "X = data[cols_to_use]\n",
    "\n",
    "# Select target\n",
    "y = data.Price"
   ]
  },
  {
   "cell_type": "code",
   "execution_count": 8,
   "metadata": {},
   "outputs": [
    {
     "name": "stdout",
     "output_type": "stream",
     "text": [
      "<class 'pandas.core.frame.DataFrame'>\n",
      "RangeIndex: 13580 entries, 0 to 13579\n",
      "Data columns (total 5 columns):\n",
      "Rooms           13580 non-null int64\n",
      "Distance        13580 non-null float64\n",
      "Landsize        13580 non-null float64\n",
      "BuildingArea    7130 non-null float64\n",
      "YearBuilt       8205 non-null float64\n",
      "dtypes: float64(4), int64(1)\n",
      "memory usage: 530.6 KB\n"
     ]
    }
   ],
   "source": [
    "X.info()"
   ]
  },
  {
   "cell_type": "code",
   "execution_count": 10,
   "metadata": {},
   "outputs": [],
   "source": [
    "# Build pipeline\n",
    "from sklearn.ensemble import RandomForestRegressor\n",
    "from sklearn.pipeline import Pipeline\n",
    "from sklearn.impute import SimpleImputer\n",
    "\n",
    "# Define preprocessor\n",
    "preprocessor = SimpleImputer(strategy='constant')\n",
    "# Define model\n",
    "model = RandomForestRegressor(n_estimators=193, random_state=0)\n",
    "\n",
    "# pipeline\n",
    "my_pipeline = Pipeline(steps = [\n",
    "    ('preprocessor', preprocessor),('model', model)\n",
    "] )"
   ]
  },
  {
   "cell_type": "markdown",
   "metadata": {},
   "source": [
    "Cross-validation scores is calculated using `cross_val_score()` function from `sklearn.model_selection`. The number of folds is specified using the `cv` parameter"
   ]
  },
  {
   "cell_type": "code",
   "execution_count": 12,
   "metadata": {},
   "outputs": [
    {
     "name": "stdout",
     "output_type": "stream",
     "text": [
      "MAE scores:\n",
      " [299836.70688591 300047.83663901 286083.40909066 236604.03224108\n",
      " 259524.31043587]\n"
     ]
    }
   ],
   "source": [
    "# CROSS-VALIDATION\n",
    "\n",
    "from sklearn.model_selection import cross_val_score\n",
    "\n",
    "# Multiply by -1 since sklearn calculates *negative* MAE\n",
    "scores = -1 * cross_val_score(my_pipeline, X, y,\n",
    "                             cv=5,\n",
    "                             scoring='neg_mean_absolute_error')\n",
    "print(\"MAE scores:\\n\", scores)"
   ]
  },
  {
   "cell_type": "markdown",
   "metadata": {},
   "source": [
    "The scoring parameter chooses a measure of model quality to report: in this case, we chose negative mean absolute error (MAE). The docs for scikit-learn show a list of options.\n",
    "\n",
    "https://scikit-learn.org/stable/modules/model_evaluation.html"
   ]
  },
  {
   "cell_type": "code",
   "execution_count": 14,
   "metadata": {},
   "outputs": [
    {
     "name": "stdout",
     "output_type": "stream",
     "text": [
      "Average MAE score (across experiments):\n",
      "276419.2590585053\n"
     ]
    }
   ],
   "source": [
    "# Averging scores to get a single measure of model quality\n",
    "print(\"Average MAE score (across experiments):\")\n",
    "print(scores.mean())"
   ]
  },
  {
   "cell_type": "markdown",
   "metadata": {},
   "source": [
    "### Comparision with traditional technique"
   ]
  },
  {
   "cell_type": "code",
   "execution_count": 16,
   "metadata": {},
   "outputs": [],
   "source": [
    "from sklearn.model_selection import train_test_split\n",
    "\n",
    "X_train, X_valid, y_train, y_valid = train_test_split(X,y,\n",
    "                                                     random_state=0)"
   ]
  },
  {
   "cell_type": "code",
   "execution_count": 17,
   "metadata": {},
   "outputs": [],
   "source": [
    "# Define preprocessor\n",
    "preprocessor = SimpleImputer(strategy='constant')\n",
    "# Define model\n",
    "model = RandomForestRegressor(n_estimators=193, random_state=0)\n",
    "\n",
    "# pipeline\n",
    "my_pipeline_cpy = Pipeline(steps = [\n",
    "    ('preprocessor', preprocessor),('model', model)\n",
    "] )"
   ]
  },
  {
   "cell_type": "code",
   "execution_count": 18,
   "metadata": {},
   "outputs": [
    {
     "data": {
      "text/plain": [
       "Pipeline(memory=None,\n",
       "         steps=[('preprocessor',\n",
       "                 SimpleImputer(add_indicator=False, copy=True, fill_value=None,\n",
       "                               missing_values=nan, strategy='constant',\n",
       "                               verbose=0)),\n",
       "                ('model',\n",
       "                 RandomForestRegressor(bootstrap=True, criterion='mse',\n",
       "                                       max_depth=None, max_features='auto',\n",
       "                                       max_leaf_nodes=None,\n",
       "                                       min_impurity_decrease=0.0,\n",
       "                                       min_impurity_split=None,\n",
       "                                       min_samples_leaf=1, min_samples_split=2,\n",
       "                                       min_weight_fraction_leaf=0.0,\n",
       "                                       n_estimators=193, n_jobs=None,\n",
       "                                       oob_score=False, random_state=0,\n",
       "                                       verbose=0, warm_start=False))],\n",
       "         verbose=False)"
      ]
     },
     "execution_count": 18,
     "metadata": {},
     "output_type": "execute_result"
    }
   ],
   "source": [
    "# Preprocess and train\n",
    "my_pipeline_cpy.fit(X_train, y_train)"
   ]
  },
  {
   "cell_type": "code",
   "execution_count": 20,
   "metadata": {},
   "outputs": [],
   "source": [
    "# Preprocess and Predict\n",
    "pred_y = my_pipeline_cpy.predict(X_valid)"
   ]
  },
  {
   "cell_type": "code",
   "execution_count": 25,
   "metadata": {},
   "outputs": [
    {
     "name": "stdout",
     "output_type": "stream",
     "text": [
      "MAE without Cross-validation:\n",
      " 252586.07506742276\n"
     ]
    }
   ],
   "source": [
    "# Assess Accuracy\n",
    "from sklearn.metrics import mean_absolute_error\n",
    "\n",
    "mae = mean_absolute_error(y_valid, pred_y)\n",
    "print(\"MAE without Cross-validation:\\n\", mae)"
   ]
  }
 ],
 "metadata": {
  "kernelspec": {
   "display_name": "Python 3",
   "language": "python",
   "name": "python3"
  },
  "language_info": {
   "codemirror_mode": {
    "name": "ipython",
    "version": 3
   },
   "file_extension": ".py",
   "mimetype": "text/x-python",
   "name": "python",
   "nbconvert_exporter": "python",
   "pygments_lexer": "ipython3",
   "version": "3.7.3"
  }
 },
 "nbformat": 4,
 "nbformat_minor": 2
}
