{
 "cells": [
  {
   "cell_type": "markdown",
   "metadata": {},
   "source": [
    "# Feature Engineering - Baseline Model\n",
    "\n",
    "Create baseline model to improve performance as we do feature engineering."
   ]
  },
  {
   "cell_type": "code",
   "execution_count": 1,
   "metadata": {},
   "outputs": [
    {
     "data": {
      "text/plain": [
       "'/home/raxit/kaggle'"
      ]
     },
     "execution_count": 1,
     "metadata": {},
     "output_type": "execute_result"
    }
   ],
   "source": [
    "import os\n",
    "os.getcwd()"
   ]
  },
  {
   "cell_type": "code",
   "execution_count": 2,
   "metadata": {},
   "outputs": [],
   "source": [
    "import pandas as pd\n",
    "\n",
    "# Read Kickstarter projects data\n",
    "ks = pd.read_csv('./dataset/kickstarter_project/ks-projects-201801.csv',\n",
    "                parse_dates=['deadline', 'launched'])"
   ]
  },
  {
   "cell_type": "code",
   "execution_count": 3,
   "metadata": {
    "scrolled": true
   },
   "outputs": [
    {
     "data": {
      "text/html": [
       "<div>\n",
       "<style scoped>\n",
       "    .dataframe tbody tr th:only-of-type {\n",
       "        vertical-align: middle;\n",
       "    }\n",
       "\n",
       "    .dataframe tbody tr th {\n",
       "        vertical-align: top;\n",
       "    }\n",
       "\n",
       "    .dataframe thead th {\n",
       "        text-align: right;\n",
       "    }\n",
       "</style>\n",
       "<table border=\"1\" class=\"dataframe\">\n",
       "  <thead>\n",
       "    <tr style=\"text-align: right;\">\n",
       "      <th></th>\n",
       "      <th>ID</th>\n",
       "      <th>name</th>\n",
       "      <th>category</th>\n",
       "      <th>main_category</th>\n",
       "      <th>currency</th>\n",
       "      <th>deadline</th>\n",
       "      <th>goal</th>\n",
       "      <th>launched</th>\n",
       "      <th>pledged</th>\n",
       "      <th>state</th>\n",
       "      <th>backers</th>\n",
       "      <th>country</th>\n",
       "      <th>usd pledged</th>\n",
       "      <th>usd_pledged_real</th>\n",
       "      <th>usd_goal_real</th>\n",
       "    </tr>\n",
       "  </thead>\n",
       "  <tbody>\n",
       "    <tr>\n",
       "      <th>0</th>\n",
       "      <td>1000002330</td>\n",
       "      <td>The Songs of Adelaide &amp; Abullah</td>\n",
       "      <td>Poetry</td>\n",
       "      <td>Publishing</td>\n",
       "      <td>GBP</td>\n",
       "      <td>2015-10-09</td>\n",
       "      <td>1000.0</td>\n",
       "      <td>2015-08-11 12:12:28</td>\n",
       "      <td>0.0</td>\n",
       "      <td>failed</td>\n",
       "      <td>0</td>\n",
       "      <td>GB</td>\n",
       "      <td>0.0</td>\n",
       "      <td>0.0</td>\n",
       "      <td>1533.95</td>\n",
       "    </tr>\n",
       "    <tr>\n",
       "      <th>1</th>\n",
       "      <td>1000003930</td>\n",
       "      <td>Greeting From Earth: ZGAC Arts Capsule For ET</td>\n",
       "      <td>Narrative Film</td>\n",
       "      <td>Film &amp; Video</td>\n",
       "      <td>USD</td>\n",
       "      <td>2017-11-01</td>\n",
       "      <td>30000.0</td>\n",
       "      <td>2017-09-02 04:43:57</td>\n",
       "      <td>2421.0</td>\n",
       "      <td>failed</td>\n",
       "      <td>15</td>\n",
       "      <td>US</td>\n",
       "      <td>100.0</td>\n",
       "      <td>2421.0</td>\n",
       "      <td>30000.00</td>\n",
       "    </tr>\n",
       "    <tr>\n",
       "      <th>2</th>\n",
       "      <td>1000004038</td>\n",
       "      <td>Where is Hank?</td>\n",
       "      <td>Narrative Film</td>\n",
       "      <td>Film &amp; Video</td>\n",
       "      <td>USD</td>\n",
       "      <td>2013-02-26</td>\n",
       "      <td>45000.0</td>\n",
       "      <td>2013-01-12 00:20:50</td>\n",
       "      <td>220.0</td>\n",
       "      <td>failed</td>\n",
       "      <td>3</td>\n",
       "      <td>US</td>\n",
       "      <td>220.0</td>\n",
       "      <td>220.0</td>\n",
       "      <td>45000.00</td>\n",
       "    </tr>\n",
       "    <tr>\n",
       "      <th>3</th>\n",
       "      <td>1000007540</td>\n",
       "      <td>ToshiCapital Rekordz Needs Help to Complete Album</td>\n",
       "      <td>Music</td>\n",
       "      <td>Music</td>\n",
       "      <td>USD</td>\n",
       "      <td>2012-04-16</td>\n",
       "      <td>5000.0</td>\n",
       "      <td>2012-03-17 03:24:11</td>\n",
       "      <td>1.0</td>\n",
       "      <td>failed</td>\n",
       "      <td>1</td>\n",
       "      <td>US</td>\n",
       "      <td>1.0</td>\n",
       "      <td>1.0</td>\n",
       "      <td>5000.00</td>\n",
       "    </tr>\n",
       "    <tr>\n",
       "      <th>4</th>\n",
       "      <td>1000011046</td>\n",
       "      <td>Community Film Project: The Art of Neighborhoo...</td>\n",
       "      <td>Film &amp; Video</td>\n",
       "      <td>Film &amp; Video</td>\n",
       "      <td>USD</td>\n",
       "      <td>2015-08-29</td>\n",
       "      <td>19500.0</td>\n",
       "      <td>2015-07-04 08:35:03</td>\n",
       "      <td>1283.0</td>\n",
       "      <td>canceled</td>\n",
       "      <td>14</td>\n",
       "      <td>US</td>\n",
       "      <td>1283.0</td>\n",
       "      <td>1283.0</td>\n",
       "      <td>19500.00</td>\n",
       "    </tr>\n",
       "  </tbody>\n",
       "</table>\n",
       "</div>"
      ],
      "text/plain": [
       "           ID                                               name  \\\n",
       "0  1000002330                    The Songs of Adelaide & Abullah   \n",
       "1  1000003930      Greeting From Earth: ZGAC Arts Capsule For ET   \n",
       "2  1000004038                                     Where is Hank?   \n",
       "3  1000007540  ToshiCapital Rekordz Needs Help to Complete Album   \n",
       "4  1000011046  Community Film Project: The Art of Neighborhoo...   \n",
       "\n",
       "         category main_category currency   deadline     goal  \\\n",
       "0          Poetry    Publishing      GBP 2015-10-09   1000.0   \n",
       "1  Narrative Film  Film & Video      USD 2017-11-01  30000.0   \n",
       "2  Narrative Film  Film & Video      USD 2013-02-26  45000.0   \n",
       "3           Music         Music      USD 2012-04-16   5000.0   \n",
       "4    Film & Video  Film & Video      USD 2015-08-29  19500.0   \n",
       "\n",
       "             launched  pledged     state  backers country  usd pledged  \\\n",
       "0 2015-08-11 12:12:28      0.0    failed        0      GB          0.0   \n",
       "1 2017-09-02 04:43:57   2421.0    failed       15      US        100.0   \n",
       "2 2013-01-12 00:20:50    220.0    failed        3      US        220.0   \n",
       "3 2012-03-17 03:24:11      1.0    failed        1      US          1.0   \n",
       "4 2015-07-04 08:35:03   1283.0  canceled       14      US       1283.0   \n",
       "\n",
       "   usd_pledged_real  usd_goal_real  \n",
       "0               0.0        1533.95  \n",
       "1            2421.0       30000.00  \n",
       "2             220.0       45000.00  \n",
       "3               1.0        5000.00  \n",
       "4            1283.0       19500.00  "
      ]
     },
     "execution_count": 3,
     "metadata": {},
     "output_type": "execute_result"
    }
   ],
   "source": [
    "ks.head()"
   ]
  },
  {
   "cell_type": "code",
   "execution_count": 4,
   "metadata": {},
   "outputs": [
    {
     "name": "stdout",
     "output_type": "stream",
     "text": [
      "<class 'pandas.core.frame.DataFrame'>\n",
      "RangeIndex: 378661 entries, 0 to 378660\n",
      "Data columns (total 15 columns):\n",
      "ID                  378661 non-null int64\n",
      "name                378657 non-null object\n",
      "category            378661 non-null object\n",
      "main_category       378661 non-null object\n",
      "currency            378661 non-null object\n",
      "deadline            378661 non-null datetime64[ns]\n",
      "goal                378661 non-null float64\n",
      "launched            378661 non-null datetime64[ns]\n",
      "pledged             378661 non-null float64\n",
      "state               378661 non-null object\n",
      "backers             378661 non-null int64\n",
      "country             378661 non-null object\n",
      "usd pledged         374864 non-null float64\n",
      "usd_pledged_real    378661 non-null float64\n",
      "usd_goal_real       378661 non-null float64\n",
      "dtypes: datetime64[ns](2), float64(5), int64(2), object(6)\n",
      "memory usage: 43.3+ MB\n"
     ]
    }
   ],
   "source": [
    "ks.info()"
   ]
  },
  {
   "cell_type": "markdown",
   "metadata": {},
   "source": [
    "In the Kickstarter Dataset we can predict if a kickstarter project will succeed. this is given by the outcome of the `state` column."
   ]
  },
  {
   "cell_type": "markdown",
   "metadata": {},
   "source": [
    "### Preparing Target column\n",
    "\n",
    "Take a look at the unique values in column `state`"
   ]
  },
  {
   "cell_type": "code",
   "execution_count": 5,
   "metadata": {},
   "outputs": [
    {
     "data": {
      "text/plain": [
       "array(['failed', 'canceled', 'successful', 'live', 'undefined',\n",
       "       'suspended'], dtype=object)"
      ]
     },
     "execution_count": 5,
     "metadata": {},
     "output_type": "execute_result"
    }
   ],
   "source": [
    "pd.unique(ks.state)"
   ]
  },
  {
   "cell_type": "markdown",
   "metadata": {},
   "source": [
    "There are six states. `failed`, `canceled`, `successful`, `live`, `undefined` and `suspended`. Let's take a count of these states."
   ]
  },
  {
   "cell_type": "code",
   "execution_count": 6,
   "metadata": {},
   "outputs": [
    {
     "data": {
      "text/plain": [
       "state\n",
       "canceled       38779\n",
       "failed        197719\n",
       "live            2799\n",
       "successful    133956\n",
       "suspended       1846\n",
       "undefined       3562\n",
       "Name: ID, dtype: int64"
      ]
     },
     "execution_count": 6,
     "metadata": {},
     "output_type": "execute_result"
    }
   ],
   "source": [
    "# Counting states\n",
    "\n",
    "ks.groupby('state')['ID'].count()"
   ]
  },
  {
   "cell_type": "markdown",
   "metadata": {},
   "source": [
    "Since we are predicting if a project is going to be successful or not, \n",
    "- drop pojects that are \"live\"\n",
    "- Count \"successful\" states as `outcome = 1`\n",
    "- Combine every other state as `outcome = 0`\n",
    "\n",
    "Since data cleaning is not the focus we will deal with it later."
   ]
  },
  {
   "cell_type": "code",
   "execution_count": 7,
   "metadata": {},
   "outputs": [
    {
     "name": "stdout",
     "output_type": "stream",
     "text": [
      "Tuples dropped: 2799\n"
     ]
    }
   ],
   "source": [
    "# Count live projects\n",
    "live = ks.query('state == \"live\"')['ID'].count()\n",
    "\n",
    "# Drop live projects\n",
    "ks = ks.query('state != \"live\"')\n",
    "\n",
    "# Check if live projects are dropped\n",
    "print(\"Tuples dropped: {}\".format(live - ks.query('state == \"live\"')['ID'].count()))"
   ]
  },
  {
   "cell_type": "code",
   "execution_count": 8,
   "metadata": {},
   "outputs": [],
   "source": [
    "# Add outcome column, \"successful\" == 1, others are 0\n",
    "ks = ks.assign(outcome=(ks['state'] == 'successful').astype(int))"
   ]
  },
  {
   "cell_type": "code",
   "execution_count": 9,
   "metadata": {},
   "outputs": [
    {
     "name": "stdout",
     "output_type": "stream",
     "text": [
      "2\n",
      "[0 1]\n"
     ]
    }
   ],
   "source": [
    "# number of unique elements in col `outcome`\n",
    "print(ks.outcome.nunique())\n",
    "print(pd.unique(ks.outcome))"
   ]
  },
  {
   "cell_type": "code",
   "execution_count": 10,
   "metadata": {},
   "outputs": [],
   "source": [
    "# Drop state\n",
    "# ks = ks.drop(['state'], axis=1)"
   ]
  },
  {
   "cell_type": "markdown",
   "metadata": {},
   "source": [
    "### Additional features\n",
    "\n",
    "We can convert the `launched` column that contain timestamps. Timestamps will be converted into different columns. \n",
    "\n",
    "Time values are accessed through the `.dt` attribute on timestamp column."
   ]
  },
  {
   "cell_type": "code",
   "execution_count": 11,
   "metadata": {},
   "outputs": [
    {
     "data": {
      "text/html": [
       "<div>\n",
       "<style scoped>\n",
       "    .dataframe tbody tr th:only-of-type {\n",
       "        vertical-align: middle;\n",
       "    }\n",
       "\n",
       "    .dataframe tbody tr th {\n",
       "        vertical-align: top;\n",
       "    }\n",
       "\n",
       "    .dataframe thead th {\n",
       "        text-align: right;\n",
       "    }\n",
       "</style>\n",
       "<table border=\"1\" class=\"dataframe\">\n",
       "  <thead>\n",
       "    <tr style=\"text-align: right;\">\n",
       "      <th></th>\n",
       "      <th>ID</th>\n",
       "      <th>name</th>\n",
       "      <th>category</th>\n",
       "      <th>main_category</th>\n",
       "      <th>currency</th>\n",
       "      <th>deadline</th>\n",
       "      <th>goal</th>\n",
       "      <th>launched</th>\n",
       "      <th>pledged</th>\n",
       "      <th>state</th>\n",
       "      <th>backers</th>\n",
       "      <th>country</th>\n",
       "      <th>usd pledged</th>\n",
       "      <th>usd_pledged_real</th>\n",
       "      <th>usd_goal_real</th>\n",
       "      <th>outcome</th>\n",
       "      <th>hour</th>\n",
       "      <th>day</th>\n",
       "      <th>month</th>\n",
       "      <th>year</th>\n",
       "    </tr>\n",
       "  </thead>\n",
       "  <tbody>\n",
       "    <tr>\n",
       "      <th>0</th>\n",
       "      <td>1000002330</td>\n",
       "      <td>The Songs of Adelaide &amp; Abullah</td>\n",
       "      <td>Poetry</td>\n",
       "      <td>Publishing</td>\n",
       "      <td>GBP</td>\n",
       "      <td>2015-10-09</td>\n",
       "      <td>1000.0</td>\n",
       "      <td>2015-08-11 12:12:28</td>\n",
       "      <td>0.0</td>\n",
       "      <td>failed</td>\n",
       "      <td>0</td>\n",
       "      <td>GB</td>\n",
       "      <td>0.0</td>\n",
       "      <td>0.0</td>\n",
       "      <td>1533.95</td>\n",
       "      <td>0</td>\n",
       "      <td>12</td>\n",
       "      <td>11</td>\n",
       "      <td>8</td>\n",
       "      <td>2015</td>\n",
       "    </tr>\n",
       "    <tr>\n",
       "      <th>1</th>\n",
       "      <td>1000003930</td>\n",
       "      <td>Greeting From Earth: ZGAC Arts Capsule For ET</td>\n",
       "      <td>Narrative Film</td>\n",
       "      <td>Film &amp; Video</td>\n",
       "      <td>USD</td>\n",
       "      <td>2017-11-01</td>\n",
       "      <td>30000.0</td>\n",
       "      <td>2017-09-02 04:43:57</td>\n",
       "      <td>2421.0</td>\n",
       "      <td>failed</td>\n",
       "      <td>15</td>\n",
       "      <td>US</td>\n",
       "      <td>100.0</td>\n",
       "      <td>2421.0</td>\n",
       "      <td>30000.00</td>\n",
       "      <td>0</td>\n",
       "      <td>4</td>\n",
       "      <td>2</td>\n",
       "      <td>9</td>\n",
       "      <td>2017</td>\n",
       "    </tr>\n",
       "    <tr>\n",
       "      <th>2</th>\n",
       "      <td>1000004038</td>\n",
       "      <td>Where is Hank?</td>\n",
       "      <td>Narrative Film</td>\n",
       "      <td>Film &amp; Video</td>\n",
       "      <td>USD</td>\n",
       "      <td>2013-02-26</td>\n",
       "      <td>45000.0</td>\n",
       "      <td>2013-01-12 00:20:50</td>\n",
       "      <td>220.0</td>\n",
       "      <td>failed</td>\n",
       "      <td>3</td>\n",
       "      <td>US</td>\n",
       "      <td>220.0</td>\n",
       "      <td>220.0</td>\n",
       "      <td>45000.00</td>\n",
       "      <td>0</td>\n",
       "      <td>0</td>\n",
       "      <td>12</td>\n",
       "      <td>1</td>\n",
       "      <td>2013</td>\n",
       "    </tr>\n",
       "    <tr>\n",
       "      <th>3</th>\n",
       "      <td>1000007540</td>\n",
       "      <td>ToshiCapital Rekordz Needs Help to Complete Album</td>\n",
       "      <td>Music</td>\n",
       "      <td>Music</td>\n",
       "      <td>USD</td>\n",
       "      <td>2012-04-16</td>\n",
       "      <td>5000.0</td>\n",
       "      <td>2012-03-17 03:24:11</td>\n",
       "      <td>1.0</td>\n",
       "      <td>failed</td>\n",
       "      <td>1</td>\n",
       "      <td>US</td>\n",
       "      <td>1.0</td>\n",
       "      <td>1.0</td>\n",
       "      <td>5000.00</td>\n",
       "      <td>0</td>\n",
       "      <td>3</td>\n",
       "      <td>17</td>\n",
       "      <td>3</td>\n",
       "      <td>2012</td>\n",
       "    </tr>\n",
       "    <tr>\n",
       "      <th>4</th>\n",
       "      <td>1000011046</td>\n",
       "      <td>Community Film Project: The Art of Neighborhoo...</td>\n",
       "      <td>Film &amp; Video</td>\n",
       "      <td>Film &amp; Video</td>\n",
       "      <td>USD</td>\n",
       "      <td>2015-08-29</td>\n",
       "      <td>19500.0</td>\n",
       "      <td>2015-07-04 08:35:03</td>\n",
       "      <td>1283.0</td>\n",
       "      <td>canceled</td>\n",
       "      <td>14</td>\n",
       "      <td>US</td>\n",
       "      <td>1283.0</td>\n",
       "      <td>1283.0</td>\n",
       "      <td>19500.00</td>\n",
       "      <td>0</td>\n",
       "      <td>8</td>\n",
       "      <td>4</td>\n",
       "      <td>7</td>\n",
       "      <td>2015</td>\n",
       "    </tr>\n",
       "  </tbody>\n",
       "</table>\n",
       "</div>"
      ],
      "text/plain": [
       "           ID                                               name  \\\n",
       "0  1000002330                    The Songs of Adelaide & Abullah   \n",
       "1  1000003930      Greeting From Earth: ZGAC Arts Capsule For ET   \n",
       "2  1000004038                                     Where is Hank?   \n",
       "3  1000007540  ToshiCapital Rekordz Needs Help to Complete Album   \n",
       "4  1000011046  Community Film Project: The Art of Neighborhoo...   \n",
       "\n",
       "         category main_category currency   deadline     goal  \\\n",
       "0          Poetry    Publishing      GBP 2015-10-09   1000.0   \n",
       "1  Narrative Film  Film & Video      USD 2017-11-01  30000.0   \n",
       "2  Narrative Film  Film & Video      USD 2013-02-26  45000.0   \n",
       "3           Music         Music      USD 2012-04-16   5000.0   \n",
       "4    Film & Video  Film & Video      USD 2015-08-29  19500.0   \n",
       "\n",
       "             launched  pledged     state  backers country  usd pledged  \\\n",
       "0 2015-08-11 12:12:28      0.0    failed        0      GB          0.0   \n",
       "1 2017-09-02 04:43:57   2421.0    failed       15      US        100.0   \n",
       "2 2013-01-12 00:20:50    220.0    failed        3      US        220.0   \n",
       "3 2012-03-17 03:24:11      1.0    failed        1      US          1.0   \n",
       "4 2015-07-04 08:35:03   1283.0  canceled       14      US       1283.0   \n",
       "\n",
       "   usd_pledged_real  usd_goal_real  outcome  hour  day  month  year  \n",
       "0               0.0        1533.95        0    12   11      8  2015  \n",
       "1            2421.0       30000.00        0     4    2      9  2017  \n",
       "2             220.0       45000.00        0     0   12      1  2013  \n",
       "3               1.0        5000.00        0     3   17      3  2012  \n",
       "4            1283.0       19500.00        0     8    4      7  2015  "
      ]
     },
     "execution_count": 11,
     "metadata": {},
     "output_type": "execute_result"
    }
   ],
   "source": [
    "ks = ks.assign(hour=ks.launched.dt.hour,\n",
    "               day=ks.launched.dt.day,\n",
    "               month=ks.launched.dt.month,\n",
    "               year=ks.launched.dt.year)\n",
    "ks.head()"
   ]
  },
  {
   "cell_type": "markdown",
   "metadata": {},
   "source": [
    "### Prep categorical columns\n",
    "\n",
    "Label Encode categorical columns using scikit-learn's `LabelEncoder`"
   ]
  },
  {
   "cell_type": "code",
   "execution_count": 12,
   "metadata": {},
   "outputs": [
    {
     "data": {
      "text/plain": [
       "159"
      ]
     },
     "execution_count": 12,
     "metadata": {},
     "output_type": "execute_result"
    }
   ],
   "source": [
    "ks.category.nunique()"
   ]
  },
  {
   "cell_type": "code",
   "execution_count": 13,
   "metadata": {},
   "outputs": [],
   "source": [
    "# List Categorical cols\n",
    "object_cols = [cname for cname in ks.columns\n",
    "               if ks[cname].dtype=='object'\n",
    "               and ks[cname].nunique() < 200]"
   ]
  },
  {
   "cell_type": "code",
   "execution_count": 14,
   "metadata": {},
   "outputs": [
    {
     "data": {
      "text/plain": [
       "['category', 'main_category', 'currency', 'state', 'country']"
      ]
     },
     "execution_count": 14,
     "metadata": {},
     "output_type": "execute_result"
    }
   ],
   "source": [
    "object_cols"
   ]
  },
  {
   "cell_type": "code",
   "execution_count": 15,
   "metadata": {},
   "outputs": [
    {
     "data": {
      "text/html": [
       "<div>\n",
       "<style scoped>\n",
       "    .dataframe tbody tr th:only-of-type {\n",
       "        vertical-align: middle;\n",
       "    }\n",
       "\n",
       "    .dataframe tbody tr th {\n",
       "        vertical-align: top;\n",
       "    }\n",
       "\n",
       "    .dataframe thead th {\n",
       "        text-align: right;\n",
       "    }\n",
       "</style>\n",
       "<table border=\"1\" class=\"dataframe\">\n",
       "  <thead>\n",
       "    <tr style=\"text-align: right;\">\n",
       "      <th></th>\n",
       "      <th>category</th>\n",
       "      <th>main_category</th>\n",
       "      <th>currency</th>\n",
       "      <th>state</th>\n",
       "      <th>country</th>\n",
       "    </tr>\n",
       "  </thead>\n",
       "  <tbody>\n",
       "    <tr>\n",
       "      <th>0</th>\n",
       "      <td>108</td>\n",
       "      <td>12</td>\n",
       "      <td>5</td>\n",
       "      <td>1</td>\n",
       "      <td>9</td>\n",
       "    </tr>\n",
       "    <tr>\n",
       "      <th>1</th>\n",
       "      <td>93</td>\n",
       "      <td>6</td>\n",
       "      <td>13</td>\n",
       "      <td>1</td>\n",
       "      <td>22</td>\n",
       "    </tr>\n",
       "    <tr>\n",
       "      <th>2</th>\n",
       "      <td>93</td>\n",
       "      <td>6</td>\n",
       "      <td>13</td>\n",
       "      <td>1</td>\n",
       "      <td>22</td>\n",
       "    </tr>\n",
       "    <tr>\n",
       "      <th>3</th>\n",
       "      <td>90</td>\n",
       "      <td>10</td>\n",
       "      <td>13</td>\n",
       "      <td>1</td>\n",
       "      <td>22</td>\n",
       "    </tr>\n",
       "    <tr>\n",
       "      <th>4</th>\n",
       "      <td>55</td>\n",
       "      <td>6</td>\n",
       "      <td>13</td>\n",
       "      <td>0</td>\n",
       "      <td>22</td>\n",
       "    </tr>\n",
       "  </tbody>\n",
       "</table>\n",
       "</div>"
      ],
      "text/plain": [
       "   category  main_category  currency  state  country\n",
       "0       108             12         5      1        9\n",
       "1        93              6        13      1       22\n",
       "2        93              6        13      1       22\n",
       "3        90             10        13      1       22\n",
       "4        55              6        13      0       22"
      ]
     },
     "execution_count": 15,
     "metadata": {},
     "output_type": "execute_result"
    }
   ],
   "source": [
    "from sklearn.preprocessing import LabelEncoder\n",
    "\n",
    "encoder = LabelEncoder()\n",
    "\n",
    "encoded = ks[object_cols].apply(encoder.fit_transform)\n",
    "encoded.head()"
   ]
  },
  {
   "cell_type": "markdown",
   "metadata": {},
   "source": [
    "**Since** `main_category` **is derived from category, it is redundant. therfore, we will drop it.**\n",
    "\n",
    "**We will also drop** `state` **since it is out target. Encoding it into the data will be the worst case of target-leakage.**"
   ]
  },
  {
   "cell_type": "code",
   "execution_count": 16,
   "metadata": {},
   "outputs": [
    {
     "data": {
      "text/html": [
       "<div>\n",
       "<style scoped>\n",
       "    .dataframe tbody tr th:only-of-type {\n",
       "        vertical-align: middle;\n",
       "    }\n",
       "\n",
       "    .dataframe tbody tr th {\n",
       "        vertical-align: top;\n",
       "    }\n",
       "\n",
       "    .dataframe thead th {\n",
       "        text-align: right;\n",
       "    }\n",
       "</style>\n",
       "<table border=\"1\" class=\"dataframe\">\n",
       "  <thead>\n",
       "    <tr style=\"text-align: right;\">\n",
       "      <th></th>\n",
       "      <th>category</th>\n",
       "      <th>currency</th>\n",
       "      <th>country</th>\n",
       "    </tr>\n",
       "  </thead>\n",
       "  <tbody>\n",
       "    <tr>\n",
       "      <th>0</th>\n",
       "      <td>108</td>\n",
       "      <td>5</td>\n",
       "      <td>9</td>\n",
       "    </tr>\n",
       "    <tr>\n",
       "      <th>1</th>\n",
       "      <td>93</td>\n",
       "      <td>13</td>\n",
       "      <td>22</td>\n",
       "    </tr>\n",
       "    <tr>\n",
       "      <th>2</th>\n",
       "      <td>93</td>\n",
       "      <td>13</td>\n",
       "      <td>22</td>\n",
       "    </tr>\n",
       "    <tr>\n",
       "      <th>3</th>\n",
       "      <td>90</td>\n",
       "      <td>13</td>\n",
       "      <td>22</td>\n",
       "    </tr>\n",
       "    <tr>\n",
       "      <th>4</th>\n",
       "      <td>55</td>\n",
       "      <td>13</td>\n",
       "      <td>22</td>\n",
       "    </tr>\n",
       "  </tbody>\n",
       "</table>\n",
       "</div>"
      ],
      "text/plain": [
       "   category  currency  country\n",
       "0       108         5        9\n",
       "1        93        13       22\n",
       "2        93        13       22\n",
       "3        90        13       22\n",
       "4        55        13       22"
      ]
     },
     "execution_count": 16,
     "metadata": {},
     "output_type": "execute_result"
    }
   ],
   "source": [
    "encoded = encoded.drop(['main_category', 'state'], axis=1)\n",
    "encoded.head()"
   ]
  },
  {
   "cell_type": "markdown",
   "metadata": {},
   "source": [
    "### Create dataframe\n",
    "\n",
    "Collect all features in to a new dataframe. Since they have the same index they can be easily joined."
   ]
  },
  {
   "cell_type": "code",
   "execution_count": 17,
   "metadata": {},
   "outputs": [
    {
     "data": {
      "text/html": [
       "<div>\n",
       "<style scoped>\n",
       "    .dataframe tbody tr th:only-of-type {\n",
       "        vertical-align: middle;\n",
       "    }\n",
       "\n",
       "    .dataframe tbody tr th {\n",
       "        vertical-align: top;\n",
       "    }\n",
       "\n",
       "    .dataframe thead th {\n",
       "        text-align: right;\n",
       "    }\n",
       "</style>\n",
       "<table border=\"1\" class=\"dataframe\">\n",
       "  <thead>\n",
       "    <tr style=\"text-align: right;\">\n",
       "      <th></th>\n",
       "      <th>goal</th>\n",
       "      <th>hour</th>\n",
       "      <th>day</th>\n",
       "      <th>month</th>\n",
       "      <th>year</th>\n",
       "      <th>outcome</th>\n",
       "      <th>category</th>\n",
       "      <th>currency</th>\n",
       "      <th>country</th>\n",
       "    </tr>\n",
       "  </thead>\n",
       "  <tbody>\n",
       "    <tr>\n",
       "      <th>0</th>\n",
       "      <td>1000.0</td>\n",
       "      <td>12</td>\n",
       "      <td>11</td>\n",
       "      <td>8</td>\n",
       "      <td>2015</td>\n",
       "      <td>0</td>\n",
       "      <td>108</td>\n",
       "      <td>5</td>\n",
       "      <td>9</td>\n",
       "    </tr>\n",
       "    <tr>\n",
       "      <th>1</th>\n",
       "      <td>30000.0</td>\n",
       "      <td>4</td>\n",
       "      <td>2</td>\n",
       "      <td>9</td>\n",
       "      <td>2017</td>\n",
       "      <td>0</td>\n",
       "      <td>93</td>\n",
       "      <td>13</td>\n",
       "      <td>22</td>\n",
       "    </tr>\n",
       "    <tr>\n",
       "      <th>2</th>\n",
       "      <td>45000.0</td>\n",
       "      <td>0</td>\n",
       "      <td>12</td>\n",
       "      <td>1</td>\n",
       "      <td>2013</td>\n",
       "      <td>0</td>\n",
       "      <td>93</td>\n",
       "      <td>13</td>\n",
       "      <td>22</td>\n",
       "    </tr>\n",
       "    <tr>\n",
       "      <th>3</th>\n",
       "      <td>5000.0</td>\n",
       "      <td>3</td>\n",
       "      <td>17</td>\n",
       "      <td>3</td>\n",
       "      <td>2012</td>\n",
       "      <td>0</td>\n",
       "      <td>90</td>\n",
       "      <td>13</td>\n",
       "      <td>22</td>\n",
       "    </tr>\n",
       "    <tr>\n",
       "      <th>4</th>\n",
       "      <td>19500.0</td>\n",
       "      <td>8</td>\n",
       "      <td>4</td>\n",
       "      <td>7</td>\n",
       "      <td>2015</td>\n",
       "      <td>0</td>\n",
       "      <td>55</td>\n",
       "      <td>13</td>\n",
       "      <td>22</td>\n",
       "    </tr>\n",
       "  </tbody>\n",
       "</table>\n",
       "</div>"
      ],
      "text/plain": [
       "      goal  hour  day  month  year  outcome  category  currency  country\n",
       "0   1000.0    12   11      8  2015        0       108         5        9\n",
       "1  30000.0     4    2      9  2017        0        93        13       22\n",
       "2  45000.0     0   12      1  2013        0        93        13       22\n",
       "3   5000.0     3   17      3  2012        0        90        13       22\n",
       "4  19500.0     8    4      7  2015        0        55        13       22"
      ]
     },
     "execution_count": 17,
     "metadata": {},
     "output_type": "execute_result"
    }
   ],
   "source": [
    "data = ks[['goal', 'hour', 'day', 'month', 'year', 'outcome']].join(encoded)\n",
    "data.head()"
   ]
  },
  {
   "cell_type": "markdown",
   "metadata": {},
   "source": [
    "### Create training, validation and testing datasets\n",
    "\n",
    "80% training\n",
    "10% validation\n",
    "10% testing"
   ]
  },
  {
   "cell_type": "code",
   "execution_count": 18,
   "metadata": {},
   "outputs": [],
   "source": [
    "valid_fraction = 0.1\n",
    "valid_size = int(len(data) * valid_fraction)\n",
    "\n",
    "train = data[:-2 * valid_size]\n",
    "valid = data[-2 * valid_size: -valid_size]\n",
    "test  = data[-valid_size:]"
   ]
  },
  {
   "cell_type": "markdown",
   "metadata": {},
   "source": [
    "Check if each fraction has the same proportion of target classes. print fraction of succesfull classes of each fraction of the dataset."
   ]
  },
  {
   "cell_type": "code",
   "execution_count": 19,
   "metadata": {},
   "outputs": [
    {
     "name": "stdout",
     "output_type": "stream",
     "text": [
      "Outcome fraction = 0.3570\n",
      "Outcome fraction = 0.3539\n",
      "Outcome fraction = 0.3542\n"
     ]
    }
   ],
   "source": [
    "for each in [train, valid, test]:\n",
    "    print(f\"Outcome fraction = {each.outcome.mean():.4f}\")"
   ]
  },
  {
   "cell_type": "markdown",
   "metadata": {},
   "source": [
    "Each fraction has about 35% of target classes. This is probably because the data has been randomized beforehand.\n",
    "\n",
    "The data can be randomized automatically with `sklearn.modelselection.StratifiedShuffleSplit`, but since the data is already randomized, we do not need to use it here."
   ]
  },
  {
   "cell_type": "markdown",
   "metadata": {},
   "source": [
    "## Create and train model\n",
    "\n",
    "We'll be using a `LightGMB` model. It is a tree-based model that typically performs better than `XGBoost` and are also reletively faster to train. We will do limited amount of hyperparamater tuning, if any. However, the model performance will improve as we do feature engineering."
   ]
  },
  {
   "cell_type": "code",
   "execution_count": 20,
   "metadata": {},
   "outputs": [
    {
     "name": "stdout",
     "output_type": "stream",
     "text": [
      "[1]\tvalid_0's auc: 0.694192\n",
      "Training until validation scores don't improve for 10 rounds.\n",
      "[2]\tvalid_0's auc: 0.697026\n",
      "[3]\tvalid_0's auc: 0.70002\n",
      "[4]\tvalid_0's auc: 0.701645\n",
      "[5]\tvalid_0's auc: 0.70601\n",
      "[6]\tvalid_0's auc: 0.707926\n",
      "[7]\tvalid_0's auc: 0.70945\n",
      "[8]\tvalid_0's auc: 0.710437\n",
      "[9]\tvalid_0's auc: 0.712047\n",
      "[10]\tvalid_0's auc: 0.713417\n",
      "[11]\tvalid_0's auc: 0.714648\n",
      "[12]\tvalid_0's auc: 0.715791\n",
      "[13]\tvalid_0's auc: 0.717431\n",
      "[14]\tvalid_0's auc: 0.718216\n",
      "[15]\tvalid_0's auc: 0.719381\n",
      "[16]\tvalid_0's auc: 0.720884\n",
      "[17]\tvalid_0's auc: 0.721617\n",
      "[18]\tvalid_0's auc: 0.722789\n",
      "[19]\tvalid_0's auc: 0.723307\n",
      "[20]\tvalid_0's auc: 0.72501\n",
      "[21]\tvalid_0's auc: 0.725721\n",
      "[22]\tvalid_0's auc: 0.727384\n",
      "[23]\tvalid_0's auc: 0.728268\n",
      "[24]\tvalid_0's auc: 0.72865\n",
      "[25]\tvalid_0's auc: 0.729141\n",
      "[26]\tvalid_0's auc: 0.729552\n",
      "[27]\tvalid_0's auc: 0.730459\n",
      "[28]\tvalid_0's auc: 0.731047\n",
      "[29]\tvalid_0's auc: 0.732472\n",
      "[30]\tvalid_0's auc: 0.732801\n",
      "[31]\tvalid_0's auc: 0.733166\n",
      "[32]\tvalid_0's auc: 0.734182\n",
      "[33]\tvalid_0's auc: 0.734472\n",
      "[34]\tvalid_0's auc: 0.735074\n",
      "[35]\tvalid_0's auc: 0.735738\n",
      "[36]\tvalid_0's auc: 0.735856\n",
      "[37]\tvalid_0's auc: 0.736747\n",
      "[38]\tvalid_0's auc: 0.737116\n",
      "[39]\tvalid_0's auc: 0.737297\n",
      "[40]\tvalid_0's auc: 0.73744\n",
      "[41]\tvalid_0's auc: 0.737789\n",
      "[42]\tvalid_0's auc: 0.737847\n",
      "[43]\tvalid_0's auc: 0.738086\n",
      "[44]\tvalid_0's auc: 0.738376\n",
      "[45]\tvalid_0's auc: 0.738509\n",
      "[46]\tvalid_0's auc: 0.739245\n",
      "[47]\tvalid_0's auc: 0.739561\n",
      "[48]\tvalid_0's auc: 0.739662\n",
      "[49]\tvalid_0's auc: 0.739738\n",
      "[50]\tvalid_0's auc: 0.739863\n",
      "[51]\tvalid_0's auc: 0.73994\n",
      "[52]\tvalid_0's auc: 0.740423\n",
      "[53]\tvalid_0's auc: 0.740466\n",
      "[54]\tvalid_0's auc: 0.740529\n",
      "[55]\tvalid_0's auc: 0.741066\n",
      "[56]\tvalid_0's auc: 0.74112\n",
      "[57]\tvalid_0's auc: 0.741285\n",
      "[58]\tvalid_0's auc: 0.741403\n",
      "[59]\tvalid_0's auc: 0.741591\n",
      "[60]\tvalid_0's auc: 0.741632\n",
      "[61]\tvalid_0's auc: 0.741989\n",
      "[62]\tvalid_0's auc: 0.742007\n",
      "[63]\tvalid_0's auc: 0.742152\n",
      "[64]\tvalid_0's auc: 0.742319\n",
      "[65]\tvalid_0's auc: 0.742416\n",
      "[66]\tvalid_0's auc: 0.742501\n",
      "[67]\tvalid_0's auc: 0.742604\n",
      "[68]\tvalid_0's auc: 0.742779\n",
      "[69]\tvalid_0's auc: 0.742934\n",
      "[70]\tvalid_0's auc: 0.742964\n",
      "[71]\tvalid_0's auc: 0.742945\n",
      "[72]\tvalid_0's auc: 0.74295\n",
      "[73]\tvalid_0's auc: 0.743061\n",
      "[74]\tvalid_0's auc: 0.743195\n",
      "[75]\tvalid_0's auc: 0.743198\n",
      "[76]\tvalid_0's auc: 0.743263\n",
      "[77]\tvalid_0's auc: 0.743313\n",
      "[78]\tvalid_0's auc: 0.743352\n",
      "[79]\tvalid_0's auc: 0.74336\n",
      "[80]\tvalid_0's auc: 0.743558\n",
      "[81]\tvalid_0's auc: 0.743577\n",
      "[82]\tvalid_0's auc: 0.74361\n",
      "[83]\tvalid_0's auc: 0.743618\n",
      "[84]\tvalid_0's auc: 0.743721\n",
      "[85]\tvalid_0's auc: 0.74376\n",
      "[86]\tvalid_0's auc: 0.743767\n",
      "[87]\tvalid_0's auc: 0.743845\n",
      "[88]\tvalid_0's auc: 0.743854\n",
      "[89]\tvalid_0's auc: 0.743855\n",
      "[90]\tvalid_0's auc: 0.743903\n",
      "[91]\tvalid_0's auc: 0.743952\n",
      "[92]\tvalid_0's auc: 0.743999\n",
      "[93]\tvalid_0's auc: 0.744033\n",
      "[94]\tvalid_0's auc: 0.744101\n",
      "[95]\tvalid_0's auc: 0.744146\n",
      "[96]\tvalid_0's auc: 0.744494\n",
      "[97]\tvalid_0's auc: 0.744516\n",
      "[98]\tvalid_0's auc: 0.744631\n",
      "[99]\tvalid_0's auc: 0.744678\n",
      "[100]\tvalid_0's auc: 0.74473\n",
      "[101]\tvalid_0's auc: 0.744713\n",
      "[102]\tvalid_0's auc: 0.744797\n",
      "[103]\tvalid_0's auc: 0.74485\n",
      "[104]\tvalid_0's auc: 0.744873\n",
      "[105]\tvalid_0's auc: 0.745315\n",
      "[106]\tvalid_0's auc: 0.745421\n",
      "[107]\tvalid_0's auc: 0.745417\n",
      "[108]\tvalid_0's auc: 0.745469\n",
      "[109]\tvalid_0's auc: 0.745479\n",
      "[110]\tvalid_0's auc: 0.745487\n",
      "[111]\tvalid_0's auc: 0.745863\n",
      "[112]\tvalid_0's auc: 0.745872\n",
      "[113]\tvalid_0's auc: 0.745915\n",
      "[114]\tvalid_0's auc: 0.745953\n",
      "[115]\tvalid_0's auc: 0.745919\n",
      "[116]\tvalid_0's auc: 0.745919\n",
      "[117]\tvalid_0's auc: 0.745969\n",
      "[118]\tvalid_0's auc: 0.74629\n",
      "[119]\tvalid_0's auc: 0.746331\n",
      "[120]\tvalid_0's auc: 0.74634\n",
      "[121]\tvalid_0's auc: 0.746324\n",
      "[122]\tvalid_0's auc: 0.746573\n",
      "[123]\tvalid_0's auc: 0.746602\n",
      "[124]\tvalid_0's auc: 0.746616\n",
      "[125]\tvalid_0's auc: 0.7466\n",
      "[126]\tvalid_0's auc: 0.746583\n",
      "[127]\tvalid_0's auc: 0.74663\n",
      "[128]\tvalid_0's auc: 0.746628\n",
      "[129]\tvalid_0's auc: 0.746623\n",
      "[130]\tvalid_0's auc: 0.746641\n",
      "[131]\tvalid_0's auc: 0.746647\n",
      "[132]\tvalid_0's auc: 0.746672\n",
      "[133]\tvalid_0's auc: 0.746648\n",
      "[134]\tvalid_0's auc: 0.746682\n",
      "[135]\tvalid_0's auc: 0.74671\n",
      "[136]\tvalid_0's auc: 0.746716\n",
      "[137]\tvalid_0's auc: 0.746698\n",
      "[138]\tvalid_0's auc: 0.746868\n",
      "[139]\tvalid_0's auc: 0.746899\n",
      "[140]\tvalid_0's auc: 0.746899\n",
      "[141]\tvalid_0's auc: 0.747047\n",
      "[142]\tvalid_0's auc: 0.747045\n",
      "[143]\tvalid_0's auc: 0.74705\n",
      "[144]\tvalid_0's auc: 0.747091\n",
      "[145]\tvalid_0's auc: 0.747102\n",
      "[146]\tvalid_0's auc: 0.7473\n",
      "[147]\tvalid_0's auc: 0.747294\n",
      "[148]\tvalid_0's auc: 0.747297\n",
      "[149]\tvalid_0's auc: 0.747358\n",
      "[150]\tvalid_0's auc: 0.747377\n",
      "[151]\tvalid_0's auc: 0.747398\n",
      "[152]\tvalid_0's auc: 0.747403\n",
      "[153]\tvalid_0's auc: 0.747418\n",
      "[154]\tvalid_0's auc: 0.747412\n",
      "[155]\tvalid_0's auc: 0.747415\n",
      "[156]\tvalid_0's auc: 0.74744\n",
      "[157]\tvalid_0's auc: 0.747471\n",
      "[158]\tvalid_0's auc: 0.747485\n",
      "[159]\tvalid_0's auc: 0.747484\n",
      "[160]\tvalid_0's auc: 0.747479\n",
      "[161]\tvalid_0's auc: 0.747515\n",
      "[162]\tvalid_0's auc: 0.747515\n",
      "[163]\tvalid_0's auc: 0.747519\n",
      "[164]\tvalid_0's auc: 0.747541\n",
      "[165]\tvalid_0's auc: 0.747549\n",
      "[166]\tvalid_0's auc: 0.747544\n",
      "[167]\tvalid_0's auc: 0.747538\n",
      "[168]\tvalid_0's auc: 0.747541\n",
      "[169]\tvalid_0's auc: 0.747579\n",
      "[170]\tvalid_0's auc: 0.747578\n",
      "[171]\tvalid_0's auc: 0.747591\n",
      "[172]\tvalid_0's auc: 0.747555\n",
      "[173]\tvalid_0's auc: 0.747529\n",
      "[174]\tvalid_0's auc: 0.74754\n",
      "[175]\tvalid_0's auc: 0.747513\n",
      "[176]\tvalid_0's auc: 0.747488\n",
      "[177]\tvalid_0's auc: 0.747513\n",
      "[178]\tvalid_0's auc: 0.747526\n",
      "[179]\tvalid_0's auc: 0.747511\n",
      "[180]\tvalid_0's auc: 0.747528\n",
      "[181]\tvalid_0's auc: 0.747544\n",
      "Early stopping, best iteration is:\n",
      "[171]\tvalid_0's auc: 0.747591\n"
     ]
    }
   ],
   "source": [
    "import lightgbm as lgb\n",
    "\n",
    "feature_cols = train.columns.drop('outcome')\n",
    "\n",
    "dtrain = lgb.Dataset(train[feature_cols], label=train['outcome'])\n",
    "dvalid = lgb.Dataset(valid[feature_cols], label=valid['outcome'])\n",
    "\n",
    "param = {'num_leaves': 64, 'objective': 'binary'}\n",
    "param['metric'] = 'auc'\n",
    "num_round = 1000\n",
    "bst = lgb.train(param, dtrain, num_round, valid_sets=[dvalid], early_stopping_rounds=10, verbose_eval=True)"
   ]
  },
  {
   "cell_type": "markdown",
   "metadata": {},
   "source": [
    "## Making predictions & evaluating the model\n",
    "\n",
    " An important thing to remember is that you can overfit to the validation data. This is why we need a test set that the model never sees until the final evaluation."
   ]
  },
  {
   "cell_type": "code",
   "execution_count": 21,
   "metadata": {},
   "outputs": [
    {
     "name": "stdout",
     "output_type": "stream",
     "text": [
      "Test AUC score: 0.747615303004287\n"
     ]
    }
   ],
   "source": [
    "from sklearn import metrics\n",
    "ypred = bst.predict(test[feature_cols])\n",
    "score = metrics.roc_auc_score(test['outcome'], ypred)\n",
    "\n",
    "print(f\"Test AUC score: {score}\")"
   ]
  }
 ],
 "metadata": {
  "kernelspec": {
   "display_name": "Python 3",
   "language": "python",
   "name": "python3"
  },
  "language_info": {
   "codemirror_mode": {
    "name": "ipython",
    "version": 3
   },
   "file_extension": ".py",
   "mimetype": "text/x-python",
   "name": "python",
   "nbconvert_exporter": "python",
   "pygments_lexer": "ipython3",
   "version": "3.7.3"
  }
 },
 "nbformat": 4,
 "nbformat_minor": 2
}
